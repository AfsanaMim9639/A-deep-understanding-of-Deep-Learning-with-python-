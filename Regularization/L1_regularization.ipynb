{
 "cells": [
  {
   "cell_type": "code",
   "execution_count": 1,
   "id": "09fe102e",
   "metadata": {},
   "outputs": [
    {
     "name": "stderr",
     "output_type": "stream",
     "text": [
      "C:\\Users\\roger\\AppData\\Local\\Temp\\ipykernel_5684\\2816518301.py:8: DeprecationWarning: `set_matplotlib_formats` is deprecated since IPython 7.23, directly use `matplotlib_inline.backend_inline.set_matplotlib_formats()`\n",
      "  display.set_matplotlib_formats('svg')\n"
     ]
    }
   ],
   "source": [
    "import torch\n",
    "import torch.nn as nn\n",
    "import torch.nn.functional as F\n",
    "\n",
    "import numpy as np\n",
    "import matplotlib.pyplot as plt\n",
    "from IPython import display\n",
    "display.set_matplotlib_formats('svg')\n",
    "\n",
    "\n",
    "from sklearn.model_selection import train_test_split\n",
    "from torch.utils.data import DataLoader, TensorDataset\n"
   ]
  },
  {
   "cell_type": "code",
   "execution_count": 2,
   "id": "bcd2f150",
   "metadata": {},
   "outputs": [],
   "source": [
    "import seaborn as sns\n",
    "import torch\n",
    "\n",
    "# Iris ডেটাসেট লোড করো\n",
    "iris = sns.load_dataset('iris')\n",
    "\n",
    "# Features (4টি) কে float32 tensor বানাও\n",
    "data = torch.tensor(iris[iris.columns[0:4]].values).float()\n",
    "\n",
    "# Labels তৈরি করো (0,1,2) অনুযায়ী\n",
    "labels = torch.zeros(len(data), dtype=torch.long)\n",
    "labels[iris.species == 'versicolor'] = 1\n",
    "labels[iris.species == 'virginica'] = 2\n"
   ]
  },
  {
   "cell_type": "code",
   "execution_count": 3,
   "id": "5e5ffe0a",
   "metadata": {},
   "outputs": [
    {
     "name": "stderr",
     "output_type": "stream",
     "text": [
      "C:\\Users\\roger\\AppData\\Local\\Temp\\ipykernel_5684\\2468796170.py:8: UserWarning: To copy construct from a tensor, it is recommended to use sourceTensor.clone().detach() or sourceTensor.clone().detach().requires_grad_(True), rather than torch.tensor(sourceTensor).\n",
      "  train_dataset = TensorDataset(torch.tensor(train_data, dtype=torch.float32),\n",
      "C:\\Users\\roger\\AppData\\Local\\Temp\\ipykernel_5684\\2468796170.py:9: UserWarning: To copy construct from a tensor, it is recommended to use sourceTensor.clone().detach() or sourceTensor.clone().detach().requires_grad_(True), rather than torch.tensor(sourceTensor).\n",
      "  torch.tensor(train_labels, dtype=torch.long))\n",
      "C:\\Users\\roger\\AppData\\Local\\Temp\\ipykernel_5684\\2468796170.py:11: UserWarning: To copy construct from a tensor, it is recommended to use sourceTensor.clone().detach() or sourceTensor.clone().detach().requires_grad_(True), rather than torch.tensor(sourceTensor).\n",
      "  test_dataset = TensorDataset(torch.tensor(test_data, dtype=torch.float32),\n",
      "C:\\Users\\roger\\AppData\\Local\\Temp\\ipykernel_5684\\2468796170.py:12: UserWarning: To copy construct from a tensor, it is recommended to use sourceTensor.clone().detach() or sourceTensor.clone().detach().requires_grad_(True), rather than torch.tensor(sourceTensor).\n",
      "  torch.tensor(test_labels, dtype=torch.long))\n"
     ]
    }
   ],
   "source": [
    "from torch.utils.data import TensorDataset, DataLoader\n",
    "from sklearn.model_selection import train_test_split\n",
    "\n",
    "# Split data\n",
    "train_data, test_data, train_labels, test_labels = train_test_split(data, labels, test_size=0.2)\n",
    "\n",
    "# ✅ labels must be LongTensor (for classification)\n",
    "train_dataset = TensorDataset(torch.tensor(train_data, dtype=torch.float32),\n",
    "                              torch.tensor(train_labels, dtype=torch.long))\n",
    "\n",
    "test_dataset = TensorDataset(torch.tensor(test_data, dtype=torch.float32),\n",
    "                             torch.tensor(test_labels, dtype=torch.long))\n",
    "\n",
    "# DataLoader\n",
    "train_loader = DataLoader(train_dataset, batch_size=16, shuffle=True)\n",
    "test_loader = DataLoader(test_dataset, batch_size=len(test_dataset))  # full batch for test\n"
   ]
  },
  {
   "cell_type": "code",
   "execution_count": 6,
   "id": "c7dc3f2a",
   "metadata": {},
   "outputs": [],
   "source": [
    "import torch\n",
    "import torch.nn as nn\n",
    "\n",
    "def createANewModel():\n",
    "    # Model\n",
    "    ANNiris = nn.Sequential(\n",
    "        nn.Linear(4, 64),\n",
    "        nn.ReLU(),\n",
    "        nn.Linear(64, 64),\n",
    "        nn.ReLU(),\n",
    "        nn.Linear(64, 3)\n",
    "    )\n",
    "    \n",
    "    # Loss function\n",
    "    lossfun = nn.CrossEntropyLoss()\n",
    "\n",
    "    # Optimizer with L2 regularization (weight_decay)\n",
    "    optimizer = torch.optim.SGD(ANNiris.parameters(), lr=0.005)\n",
    "\n",
    "    return ANNiris, lossfun, optimizer\n"
   ]
  },
  {
   "cell_type": "code",
   "execution_count": 8,
   "id": "68fbbbd6",
   "metadata": {},
   "outputs": [
    {
     "name": "stdout",
     "output_type": "stream",
     "text": [
      "Sequential(\n",
      "  (0): Linear(in_features=4, out_features=64, bias=True)\n",
      "  (1): ReLU()\n",
      "  (2): Linear(in_features=64, out_features=64, bias=True)\n",
      "  (3): ReLU()\n",
      "  (4): Linear(in_features=64, out_features=3, bias=True)\n",
      ")\n",
      "0.weight torch.Size([64, 4]) 256\n",
      "0.bias torch.Size([64]) 64\n",
      "2.weight torch.Size([64, 64]) 4096\n",
      "2.bias torch.Size([64]) 64\n",
      "4.weight torch.Size([3, 64]) 192\n",
      "4.bias torch.Size([3]) 3\n"
     ]
    }
   ],
   "source": [
    "tmpmodel=createANewModel()[0]\n",
    "\n",
    "print(tmpmodel)\n",
    "\n",
    "for i in tmpmodel.named_parameters():\n",
    "    print(i[0],i[1].shape,i[1].numel())"
   ]
  },
  {
   "cell_type": "code",
   "execution_count": null,
   "id": "a4cef699",
   "metadata": {},
   "outputs": [],
   "source": [
    "numepochs = 1000\n",
    "\n",
    "def trainTheModel():\n",
    "    trainAcc = []\n",
    "    testAcc = []\n",
    "    losses = []\n",
    "\n",
    "    for epochi in range(numepochs):\n",
    "        batchAcc = []\n",
    "        batchLoss = []\n",
    "\n",
    "        # Training mode\n",
    "        ANNQC.train()\n",
    "\n",
    "        for X, y in train_loader:\n",
    "            ## Forward pass and loss\n",
    "            yHat = ANNQC(X)\n",
    "            loss = lossfun(yHat, y)\n",
    "\n",
    "            # Backpropagation\n",
    "            optimizer.zero_grad()\n",
    "            loss.backward()\n",
    "            optimizer.step()\n",
    "\n",
    "            # Accuracy\n",
    "            preds = torch.argmax(yHat, dim=1)\n",
    "            acc = 100 * torch.mean((preds == y).float()).item()\n",
    "            batchAcc.append(acc)\n",
    "            batchLoss.append(loss.item())\n",
    "\n",
    "        # Epoch metrics\n",
    "        trainAcc.append(np.mean(batchAcc))\n",
    "        losses.append(np.mean(batchLoss))\n",
    "\n",
    "        # Optional: Test accuracy evaluation per epoch\n",
    "        ANNQC.eval()\n",
    "        correct = 0\n",
    "        total = 0\n",
    "        with torch.no_grad():\n",
    "            for X, y in test_loader:\n",
    "                yHat = ANNQC(X)\n",
    "                preds = torch.argmax(yHat, dim=1)\n",
    "                correct += (preds == y).sum().item()\n",
    "                total += y.size(0)\n",
    "        testAcc.append(100 * correct / total)\n",
    "\n",
    "        # Optional: Print progress\n",
    "        if epochi % 100 == 0:\n",
    "            print(f\"Epoch {epochi}: Train Acc = {trainAcc[-1]:.2f}%, Test Acc = {testAcc[-1]:.2f}%, Loss = {losses[-1]:.4f}\")\n",
    "\n",
    "    return trainAcc, testAcc, losses\n"
   ]
  }
 ],
 "metadata": {
  "kernelspec": {
   "display_name": "venv",
   "language": "python",
   "name": "python3"
  },
  "language_info": {
   "codemirror_mode": {
    "name": "ipython",
    "version": 3
   },
   "file_extension": ".py",
   "mimetype": "text/x-python",
   "name": "python",
   "nbconvert_exporter": "python",
   "pygments_lexer": "ipython3",
   "version": "3.10.16"
  }
 },
 "nbformat": 4,
 "nbformat_minor": 5
}
