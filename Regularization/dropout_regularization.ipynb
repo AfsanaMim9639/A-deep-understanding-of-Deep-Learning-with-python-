{
 "cells": [
  {
   "cell_type": "code",
   "execution_count": 1,
   "id": "a77911cf",
   "metadata": {},
   "outputs": [],
   "source": [
    "import torch\n",
    "import torch.nn as nn\n",
    "import torch.nn.functional as F\n"
   ]
  },
  {
   "cell_type": "markdown",
   "id": "a81a8691",
   "metadata": {},
   "source": [
    "### Using Dropout"
   ]
  },
  {
   "cell_type": "code",
   "execution_count": 6,
   "id": "a70bd02c",
   "metadata": {},
   "outputs": [
    {
     "name": "stdout",
     "output_type": "stream",
     "text": [
      "tensor([1., 0., 1., 1., 0., 1., 0., 0., 1., 1.])\n",
      "tensor(0.8000)\n"
     ]
    }
   ],
   "source": [
    "prob=0.25\n",
    "dropout=nn.Dropout(p=prob)\n",
    "x=torch.ones(10)\n",
    "## dropout returns \n",
    "y=dropout(x)\n",
    "print(y*(1-prob))\n",
    "print(torch.mean(y))"
   ]
  },
  {
   "cell_type": "code",
   "execution_count": 5,
   "id": "6013f161",
   "metadata": {},
   "outputs": [
    {
     "name": "stdout",
     "output_type": "stream",
     "text": [
      "tensor([1., 1., 1., 1., 1., 1., 1., 1., 1., 1.])\n",
      "tensor(1.)\n"
     ]
    }
   ],
   "source": [
    "dropout.eval()\n",
    "y=dropout(x)\n",
    "print(y)\n",
    "print(torch.mean(y))"
   ]
  },
  {
   "cell_type": "code",
   "execution_count": 7,
   "id": "d2dad43c",
   "metadata": {},
   "outputs": [
    {
     "name": "stdout",
     "output_type": "stream",
     "text": [
      "tensor([2., 0., 2., 0., 0., 0., 2., 2., 2., 0.])\n",
      "tensor(1.)\n"
     ]
    }
   ],
   "source": [
    "dropout.eval()\n",
    "y=F.dropout(x)\n",
    "print(y)\n",
    "print(torch.mean(y))"
   ]
  },
  {
   "cell_type": "code",
   "execution_count": 8,
   "id": "3da4071b",
   "metadata": {},
   "outputs": [
    {
     "name": "stdout",
     "output_type": "stream",
     "text": [
      "tensor([1., 1., 1., 1., 1., 1., 1., 1., 1., 1.])\n",
      "tensor(1.)\n"
     ]
    }
   ],
   "source": [
    "dropout.eval()\n",
    "y=F.dropout(x,training=False)\n",
    "print(y)\n",
    "print(torch.mean(y))"
   ]
  },
  {
   "cell_type": "code",
   "execution_count": 11,
   "id": "04d5415c",
   "metadata": {},
   "outputs": [
    {
     "name": "stdout",
     "output_type": "stream",
     "text": [
      "tensor([1.3333, 1.3333, 1.3333, 1.3333, 1.3333, 0.0000, 1.3333, 1.3333, 0.0000,\n",
      "        1.3333])\n",
      " \n",
      "tensor([1., 1., 1., 1., 1., 1., 1., 1., 1., 1.])\n",
      " \n",
      "tensor(1.)\n"
     ]
    }
   ],
   "source": [
    "dropout.train()\n",
    "y=dropout(x)\n",
    "print(y)\n",
    "print(' ')\n",
    "\n",
    "dropout.eval()\n",
    "y=dropout(x)\n",
    "print(y)\n",
    "print(' ')\n",
    "y=dropout(x)\n",
    "print(torch.mean(y))"
   ]
  },
  {
   "cell_type": "code",
   "execution_count": null,
   "id": "7e455542",
   "metadata": {},
   "outputs": [],
   "source": []
  }
 ],
 "metadata": {
  "kernelspec": {
   "display_name": "venv",
   "language": "python",
   "name": "python3"
  },
  "language_info": {
   "codemirror_mode": {
    "name": "ipython",
    "version": 3
   },
   "file_extension": ".py",
   "mimetype": "text/x-python",
   "name": "python",
   "nbconvert_exporter": "python",
   "pygments_lexer": "ipython3",
   "version": "3.10.16"
  }
 },
 "nbformat": 4,
 "nbformat_minor": 5
}
