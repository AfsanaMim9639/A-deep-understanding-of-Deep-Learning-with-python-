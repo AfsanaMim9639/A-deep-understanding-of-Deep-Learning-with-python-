{
 "cells": [
  {
   "cell_type": "markdown",
   "id": "8ee8154e",
   "metadata": {},
   "source": [
    "<h2>Softmax Function</h2>\n",
    "\n",
    "<h3>সংজ্ঞা:</h3>\n",
    "<p>\n",
    "<b>English:</b> Softmax converts a list of scores (logits) into probabilities that sum to one. Used in multi-class classification.\n",
    "<br>\n",
    "<b>বাংলা:</b> Softmax একটি ফাংশন যা রো স্কোরকে পরিবর্তন করে এমন প্রোবাবিলিটিতে যা সব মিলিয়ে ১ হয়। এটি মাল্টি-ক্লাস সমস্যায় ব্যবহৃত হয়।\n",
    "</p>\n",
    "\n",
    "<h3>ফর্মুলা:</h3>\n",
    "<p>\n",
    "Softmax(z<sub>i</sub>) = e<sup>z<sub>i</sub></sup> / Σ e<sup>z<sub>j</sub></sup>\n",
    "</p>\n",
    "\n",
    "<h3>Python কোড (ইংরেজি)</h3>\n",
    "<pre><code>\n",
    "import numpy as np\n",
    "\n",
    "def softmax(x):\n",
    "    exp_x = np.exp(x - np.max(x))\n",
    "    return exp_x / np.sum(exp_x)\n",
    "\n",
    "scores = [2.0, 1.0, 0.1]\n",
    "print(\"Softmax Output:\", softmax(scores))\n",
    "</code></pre>\n",
    "\n",
    "<h3>Python কোড (বাংলা)</h3>\n",
    "<pre><code>\n",
    "import numpy as np\n",
    "\n",
    "def softmax(x):\n",
    "    exp_x = np.exp(x - np.max(x))  # সংখ্যাগত স্থিতিশীলতা\n",
    "    return exp_x / np.sum(exp_x)\n",
    "\n",
    "scores = [2.0, 1.0, 0.1]\n",
    "print(\"Softmax আউটপুট:\", softmax(scores))\n",
    "</code></pre>\n"
   ]
  },
  {
   "cell_type": "markdown",
   "id": "54f3518d",
   "metadata": {},
   "source": []
  }
 ],
 "metadata": {
  "language_info": {
   "name": "python"
  }
 },
 "nbformat": 4,
 "nbformat_minor": 5
}
