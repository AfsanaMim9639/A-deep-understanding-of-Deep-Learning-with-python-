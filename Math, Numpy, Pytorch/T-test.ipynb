{
 "cells": [
  {
   "cell_type": "markdown",
   "id": "45fc40e7",
   "metadata": {},
   "source": [
    "<h2>T-test (টি-টেস্ট)</h2>\n",
    "\n",
    "<h3>What is T-test?</h3>\n",
    "<p>\n",
    "<b>English:</b> A t-test is a statistical test used to compare the means of two groups to determine if they are significantly different from each other.\n",
    "<br>\n",
    "<b>বাংলা:</b> T-test হলো একটি পরিসংখ্যানগত পরীক্ষার পদ্ধতি যা দুইটি দলের গড় মানের মধ্যে পার্থক্য রয়েছে কিনা তা নির্ণয় করতে ব্যবহৃত হয়।\n",
    "</p>\n",
    "\n",
    "<h3>Types of T-test:</h3>\n",
    "<ul>\n",
    "<li><b>One Sample T-test:</b> Compares sample mean with population mean</li>\n",
    "<li><b>Two Sample T-test:</b> Compares means of two independent samples</li>\n",
    "<li><b>Pooled/Paired T-test:</b> Compares two related or paired samples</li>\n",
    "</ul>\n",
    "\n",
    "<h3>Formula:</h3>\n",
    "<p>\n",
    "<b>One-sample t-test:</b> <br>\n",
    "t = (x̄ − μ) / (s / √n) <br>\n",
    "Where, <br>\n",
    "x̄ = sample mean, μ = population mean, s = sample std deviation, n = sample size\n",
    "</p>\n",
    "\n",
    "<h3>Interpretation:</h3>\n",
    "<p>\n",
    "If p-value &lt; 0.05 → significant difference exists.<br>\n",
    "If p-value ≥ 0.05 → no significant difference.\n",
    "</p>\n",
    "\n",
    "<h3>Python উদাহরণ (Two-Sample T-test):</h3>\n",
    "</p>\n"
   ]
  },
  {
   "cell_type": "code",
   "execution_count": 1,
   "id": "2df8ecff",
   "metadata": {},
   "outputs": [
    {
     "name": "stdout",
     "output_type": "stream",
     "text": [
      "T-statistic: 3.0\n",
      "P-value: 0.017071681233782634\n",
      "Conclusion: Significant difference between the two groups.\n"
     ]
    }
   ],
   "source": [
    "from scipy import stats\n",
    "import numpy as np\n",
    "\n",
    "# দুইটি independent group এর নমুনা\n",
    "group1 = [21, 22, 23, 24, 25]\n",
    "group2 = [20, 21, 19, 18, 22]\n",
    "\n",
    "# T-test করুন\n",
    "t_stat, p_value = stats.ttest_ind(group1, group2)\n",
    "\n",
    "print(\"T-statistic:\", t_stat)\n",
    "print(\"P-value:\", p_value)\n",
    "\n",
    "# সিদ্ধান্ত\n",
    "if p_value < 0.05:\n",
    "    print(\"Conclusion: Significant difference between the two groups.\")\n",
    "else:\n",
    "    print(\"Conclusion: No significant difference between the two groups.\")\n"
   ]
  },
  {
   "cell_type": "markdown",
   "id": "38d94735",
   "metadata": {},
   "source": []
  }
 ],
 "metadata": {
  "kernelspec": {
   "display_name": "venv",
   "language": "python",
   "name": "python3"
  },
  "language_info": {
   "codemirror_mode": {
    "name": "ipython",
    "version": 3
   },
   "file_extension": ".py",
   "mimetype": "text/x-python",
   "name": "python",
   "nbconvert_exporter": "python",
   "pygments_lexer": "ipython3",
   "version": "3.10.0"
  }
 },
 "nbformat": 4,
 "nbformat_minor": 5
}
