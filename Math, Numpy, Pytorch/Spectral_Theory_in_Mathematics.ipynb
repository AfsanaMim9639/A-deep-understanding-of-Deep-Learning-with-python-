{
 "cells": [
  {
   "cell_type": "markdown",
   "id": "94f35ad2",
   "metadata": {},
   "source": [
    "<h2>Spectral Theory in Mathematics</h2>\n",
    "\n",
    "<h3>Definition (সংজ্ঞা)</h3>\n",
    "<p>\n",
    "<b>English:</b> Spectral theory is the study of eigenvalues (spectrum) and eigenvectors of linear operators, particularly in infinite-dimensional vector spaces like Hilbert or Banach spaces.\n",
    "<br>\n",
    "<b>বাংলা:</b> স্পেকট্রাল তত্ত্ব হল এমন একটি শাখা যা লিনিয়ার অপারেটরের স্পেকট্রাম (eigenvalue) এবং eigenvector নিয়ে গবেষণা করে। এটি সাধারণত ইনফিনিট ডাইমেনশনাল ফাংশনাল স্পেসে (যেমন Hilbert Space) ব্যবহৃত হয়।\n",
    "</p>\n",
    "\n",
    "<h3>Core Concepts (মূল ধারণা)</h3>\n",
    "<ul>\n",
    "  <li><b>Eigenvalue & Eigenvector:</b> যদি A⋅v = λ⋅v হয়, তাহলে λ হলো eigenvalue এবং v হলো eigenvector।</li>\n",
    "  <li><b>Spectrum:</b> এমন λ যার জন্য (T - λI) ইনভার্টিবল নয়।</li>\n",
    "  <li><b>Types of Spectrum:</b> Point spectrum, Continuous spectrum, Residual spectrum।</li>\n",
    "  <li><b>Self-adjoint Operators:</b> এই অপারেটরের স্পেকট্রাম সবসময় বাস্তব সংখ্যার মধ্যে থাকে।</li>\n",
    "</ul>\n",
    "\n",
    "<h3>Applications (ব্যবহার ক্ষেত্র)</h3>\n",
    "<ul>\n",
    "  <li>Quantum Mechanics: Schrödinger operator এর eigenvalue হচ্ছে particle এর energy level।</li>\n",
    "  <li>Functional Analysis: Hilbert space-এ operator analysis করতে ব্যবহৃত হয়।</li>\n",
    "  <li>Differential Equations: Partial Differential Equation সমাধানে।</li>\n",
    "  <li>Graph Theory: Graph Laplacian-এর স্পেকট্রাল বিশ্লেষণে।</li>\n",
    "</ul>\n",
    "\n",
    "<h3>Python Example</h3>\n",
    "<pre>\n",
    "<code>\n",
    "# English Code: Eigenvalue and Eigenvector\n",
    "import numpy as np\n",
    "A = np.array([[4, 2], [1, 3]])\n",
    "eigenvalues, eigenvectors = np.linalg.eig(A)\n",
    "print(\"Eigenvalues:\", eigenvalues)\n",
    "print(\"Eigenvectors:\\\\n\", eigenvectors)\n",
    "</code>\n",
    "</pre>\n",
    "\n",
    "\n",
    "\n",
    "\n"
   ]
  },
  {
   "cell_type": "markdown",
   "id": "868b54a0",
   "metadata": {},
   "source": []
  }
 ],
 "metadata": {
  "language_info": {
   "name": "python"
  }
 },
 "nbformat": 4,
 "nbformat_minor": 5
}
