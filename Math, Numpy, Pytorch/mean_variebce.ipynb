{
 "cells": [
  {
   "cell_type": "markdown",
   "id": "7c721080",
   "metadata": {},
   "source": [
    "<h2>Mean এবং Variance</h2>\n",
    "\n",
    "<h3>Mean (গড়)</h3>\n",
    "<p>\n",
    "<b>English:</b> Mean is the central average value of a data set.\n",
    "<br>\n",
    "<b>Formula:</b> μ = (Σ x<sub>i</sub>) / n\n",
    "<br>\n",
    "<b>বাংলা:</b> Mean বা গড় একটি সংখ্যার সেটের গড় মান বোঝায়।\n",
    "</p>\n",
    "\n",
    "<h3>Variance (প্রসারণ)</h3>\n",
    "<p>\n",
    "<b>English:</b> Variance measures how much values deviate from the mean.\n",
    "<br>\n",
    "<b>Formula:</b> σ² = (Σ (x<sub>i</sub> - μ)²) / n\n",
    "<br>\n",
    "<b>বাংলা:</b> Variance বোঝায় যে সংখ্যাগুলো গড় থেকে কতটা বিচ্যুত।\n",
    "</p>\n",
    "\n",
    "<h3>Python কোড (Mean ও Variance)</h3>\n",
    "<pre><code>\n",
    "import numpy as np\n",
    "\n",
    "data = [2, 4, 6, 8, 10]\n",
    "\n",
    "mean = np.mean(data)\n",
    "variance = np.var(data)\n",
    "\n",
    "print(\"Mean:\", mean)\n",
    "print(\"Variance:\", variance)\n",
    "</code></pre>\n"
   ]
  },
  {
   "cell_type": "markdown",
   "id": "9b4354d8",
   "metadata": {},
   "source": []
  }
 ],
 "metadata": {
  "language_info": {
   "name": "python"
  }
 },
 "nbformat": 4,
 "nbformat_minor": 5
}
