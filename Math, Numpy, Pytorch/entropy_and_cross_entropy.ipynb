{
 "cells": [
  {
   "cell_type": "markdown",
   "id": "a79cc1b5",
   "metadata": {},
   "source": [
    "<h2>Entropy ও Cross-Entropy</h2>\n",
    "\n",
    "<h3>Entropy (এনট্রপি)</h3>\n",
    "<p>\n",
    "<b>English:</b> Measures uncertainty in a distribution. \n",
    "<br>\n",
    "<b>Formula:</b> H(p) = - Σ p<sub>i</sub> log(p<sub>i</sub>)\n",
    "<br>\n",
    "<b>বাংলা:</b> একটি distribution-এ অনিশ্চয়তা কতটা, সেটা Entropy দ্বারা বোঝানো হয়।\n",
    "</p>\n",
    "\n",
    "<h3>Cross-Entropy (ক্রস-এনট্রপি)</h3>\n",
    "<p>\n",
    "<b>English:</b> Measures how different predicted distribution q is from the true distribution p.\n",
    "<br>\n",
    "<b>Formula:</b> H(p, q) = - Σ p<sub>i</sub> log(q<sub>i</sub>)\n",
    "<br>\n",
    "<b>বাংলা:</b> সত্যিকারের ও প্রেডিক্টেড প্রোবাবিলিটির মধ্যে পার্থক্য হিসাব করে।\n",
    "</p>\n",
    "\n",
    "<h3>Python উদাহরণ</h3>\n",
    "<pre><code>\n",
    "import numpy as np\n",
    "\n",
    "p = [1, 0, 0]\n",
    "q = [0.7, 0.2, 0.1]\n",
    "\n",
    "entropy = -np.sum([pi * np.log2(pi) if pi != 0 else 0 for pi in p])\n",
    "cross_entropy = -np.sum([pi * np.log2(qi) if pi != 0 else 0 for pi, qi in zip(p, q)])\n",
    "\n",
    "print(\"Entropy:\", entropy)\n",
    "print(\"Cross-Entropy:\", cross_entropy)\n",
    "</code></pre>\n"
   ]
  },
  {
   "cell_type": "code",
   "execution_count": 1,
   "id": "8e18b4c9",
   "metadata": {},
   "outputs": [
    {
     "name": "stdout",
     "output_type": "stream",
     "text": [
      "Entropy: -0.0\n",
      "Cross-Entropy: 0.5145731728297583\n"
     ]
    }
   ],
   "source": [
    "import numpy as np\n",
    "\n",
    "# True distribution\n",
    "p = [1, 0, 0]\n",
    "# Predicted distribution\n",
    "q = [0.7, 0.2, 0.1]\n",
    "\n",
    "# Entropy of p\n",
    "entropy = -np.sum([pi * np.log2(pi) if pi != 0 else 0 for pi in p])\n",
    "\n",
    "# Cross-entropy between p and q\n",
    "cross_entropy = -np.sum([pi * np.log2(qi) if pi != 0 else 0 for pi, qi in zip(p, q)])\n",
    "\n",
    "print(\"Entropy:\", entropy)\n",
    "print(\"Cross-Entropy:\", cross_entropy)\n"
   ]
  },
  {
   "cell_type": "code",
   "execution_count": null,
   "id": "6ea47f11",
   "metadata": {},
   "outputs": [],
   "source": []
  }
 ],
 "metadata": {
  "kernelspec": {
   "display_name": "venv",
   "language": "python",
   "name": "python3"
  },
  "language_info": {
   "codemirror_mode": {
    "name": "ipython",
    "version": 3
   },
   "file_extension": ".py",
   "mimetype": "text/x-python",
   "name": "python",
   "nbconvert_exporter": "python",
   "pygments_lexer": "ipython3",
   "version": "3.10.0"
  }
 },
 "nbformat": 4,
 "nbformat_minor": 5
}
