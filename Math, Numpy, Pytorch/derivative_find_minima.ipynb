{
 "cells": [
  {
   "cell_type": "markdown",
   "id": "08e6895a",
   "metadata": {},
   "source": [
    "<h2>Derivative দিয়ে Minima নির্ধারণ</h2>\n",
    "\n",
    "<h3>Concept:</h3>\n",
    "<p>\n",
    "<b>English:</b> To find the minimum value of a function, we take its derivative and set it to zero (i.e., solve f′(x) = 0). Then we use the second derivative test to determine whether the point is a minima.\n",
    "<br>\n",
    "<b>বাংলা:</b> একটি ফাংশনের সর্বনিম্ন মান নির্ধারণ করতে, আমরা তার ডেরিভেটিভ নিই এবং তা শূন্যের সমান করে সমাধান করি (f′(x) = 0)। এরপর দ্বিতীয় ডেরিভেটিভ ব্যবহার করে যাচাই করি এটি minima কিনা।\n",
    "</p>\n",
    "\n",
    "<h3>Steps:</h3>\n",
    "<ol>\n",
    "<li>Take the first derivative: f′(x)</li>\n",
    "<li>Set f′(x) = 0 and solve for x</li>\n",
    "<li>Take second derivative: f′′(x)</li>\n",
    "<li>If f′′(x) > 0 at critical point → it is a local minimum</li>\n",
    "</ol>\n",
    "\n",
    "<h3>Example Function:</h3>\n",
    "<p>f(x) = x² + 4x + 5</p>\n"
   ]
  },
  {
   "cell_type": "markdown",
   "id": "55d1c35f",
   "metadata": {},
   "source": []
  }
 ],
 "metadata": {
  "language_info": {
   "name": "python"
  }
 },
 "nbformat": 4,
 "nbformat_minor": 5
}
