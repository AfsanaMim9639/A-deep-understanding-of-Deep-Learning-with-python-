{
 "cells": [
  {
   "cell_type": "code",
   "execution_count": 2,
   "id": "14c6e90d",
   "metadata": {},
   "outputs": [],
   "source": [
    "import torch\n",
    "import torch.nn as nn\n",
    "import numpy as np"
   ]
  },
  {
   "cell_type": "code",
   "execution_count": 12,
   "id": "c38f0bbc",
   "metadata": {},
   "outputs": [],
   "source": [
    "import seaborn as sns\n",
    "import torch\n",
    "\n",
    "# ডেটাসেট লোড\n",
    "iris = sns.load_dataset('iris')\n",
    "\n",
    "# ইনপুট ফিচারগুলোকে টেনসরে রূপান্তর\n",
    "data = torch.tensor(iris[iris.columns[0:4]].values).float()  # 🔸 .float() ব্যবহার করো dtype মিলাতে\n",
    "\n",
    "# লেবেল ইনিশিয়ালাইজ\n",
    "labels = torch.zeros(len(data), dtype=torch.long)\n",
    "\n",
    "# 🔸 spelling mistake ফিক্স করা হয়েছে: 'verginica' → 'virginica'\n",
    "labels[iris.species == 'versicolor'] = 1\n",
    "labels[iris.species == 'virginica'] = 2\n"
   ]
  },
  {
   "cell_type": "markdown",
   "id": "9f81d2c6",
   "metadata": {},
   "source": [
    "### Separate data into train and test"
   ]
  },
  {
   "cell_type": "code",
   "execution_count": 13,
   "id": "fb8f6fcf",
   "metadata": {},
   "outputs": [
    {
     "data": {
      "text/plain": [
       "array([ True,  True,  True,  True,  True,  True,  True,  True,  True,\n",
       "        True,  True,  True,  True,  True,  True,  True,  True,  True,\n",
       "        True,  True,  True,  True,  True,  True,  True,  True,  True,\n",
       "        True,  True,  True,  True,  True,  True,  True,  True,  True,\n",
       "        True,  True,  True,  True,  True,  True,  True,  True,  True,\n",
       "        True,  True,  True,  True,  True,  True,  True,  True,  True,\n",
       "        True,  True,  True,  True,  True,  True,  True,  True,  True,\n",
       "        True,  True,  True,  True,  True,  True,  True,  True,  True,\n",
       "        True,  True,  True,  True,  True,  True,  True,  True,  True,\n",
       "        True,  True,  True,  True,  True,  True,  True,  True,  True,\n",
       "        True,  True,  True,  True,  True,  True,  True,  True,  True,\n",
       "        True,  True,  True,  True,  True,  True,  True,  True,  True,\n",
       "        True,  True,  True,  True,  True,  True,  True,  True,  True,\n",
       "        True,  True,  True, False, False, False, False, False, False,\n",
       "       False, False, False, False, False, False, False, False, False,\n",
       "       False, False, False, False, False, False, False, False, False,\n",
       "       False, False, False, False, False, False])"
      ]
     },
     "execution_count": 13,
     "metadata": {},
     "output_type": "execute_result"
    }
   ],
   "source": [
    "propTaining=.8\n",
    "nTraining=int(len(labels)*propTaining)\n",
    "\n",
    "##initialize a boolean vector to select data and labels\n",
    "traintestBool=np.zeros(len(labels),dtype=bool)\n",
    "\n",
    "#is this the correct way to select sample?\n",
    "traintestBool[range(nTraining)]=True\n",
    "\n",
    "## this is better but why?\n",
    "traintestBool"
   ]
  },
  {
   "cell_type": "code",
   "execution_count": 14,
   "id": "e86d8f13",
   "metadata": {},
   "outputs": [
    {
     "name": "stdout",
     "output_type": "stream",
     "text": [
      "Average of full data:\n",
      "tensor(1.)\n",
      " \n",
      "Average of training data:\n",
      "tensor(0.7500)\n",
      " \n",
      "Average of test data:\n",
      "tensor(2.)\n"
     ]
    }
   ],
   "source": [
    "#test whether it's balance\n",
    "print('Average of full data:')\n",
    "print(torch.mean(labels.float()))\n",
    "print(' ')\n",
    "\n",
    "print('Average of training data:')\n",
    "print(torch.mean(labels[traintestBool].float()))\n",
    "print(' ')\n",
    "\n",
    "print('Average of test data:')\n",
    "print(torch.mean(labels[~traintestBool].float()))"
   ]
  },
  {
   "cell_type": "code",
   "execution_count": 15,
   "id": "75c4adcd",
   "metadata": {},
   "outputs": [],
   "source": [
    "##create the ANN model\n",
    "ANNiris=nn.Sequential(\n",
    "    nn.Linear(4,64),\n",
    "    nn.ReLU(),\n",
    "    nn.Linear(64,64),\n",
    "    nn.ReLU(),\n",
    "    nn.Linear(64,3),\n",
    ")\n",
    "\n",
    "##loss function\n",
    "lossfun=nn.CrossEntropyLoss()\n",
    "\n",
    "#optimizer\n",
    "optimizer=torch.optim.SGD(ANNiris.parameters(),lr=.01)\n",
    "\n",
    "\n"
   ]
  },
  {
   "cell_type": "code",
   "execution_count": 16,
   "metadata": {},
   "outputs": [
    {
     "name": "stdout",
     "output_type": "stream",
     "text": [
      "torch.Size([150, 4])\n",
      "torch.Size([120, 4])\n",
      "torch.Size([30, 4])\n"
     ]
    }
   ],
   "source": [
    "#entire datasets\n",
    "print(data.shape)\n",
    "\n",
    "#training set\n",
    "print(data[traintestBool,:].shape)\n",
    "\n",
    "#test set\n",
    "print(data[~traintestBool,:].shape)"
   ]
  },
  {
   "cell_type": "markdown",
   "id": "47bcdf4d",
   "metadata": {},
   "source": [
    "### Train and test the model"
   ]
  },
  {
   "cell_type": "code",
   "execution_count": 17,
   "id": "ea34a1d1",
   "metadata": {},
   "outputs": [],
   "source": [
    "# হাইপার-প্যারামিটার\n",
    "numepochs = 1000\n",
    "losses = torch.zeros(numepochs)\n",
    "ongoingAcc = []\n",
    "\n",
    "# মডেল ট্রেন করা শুরু\n",
    "for epochi in range(numepochs):\n",
    "\n",
    "    # 🔹 Forward pass\n",
    "    yHat = ANNiris(data[traintestBool, :])\n",
    "\n",
    "    # 🔹 Accuracy হিসাব করা\n",
    "    acc = 100 * torch.mean((torch.argmax(yHat, axis=1) == labels[traintestBool]).float())\n",
    "    ongoingAcc.append(acc.item())  # item() দিয়ে tensor থেকে value আনা হয়েছে\n",
    "\n",
    "    # 🔹 Loss হিসাব করা\n",
    "    loss = lossfun(yHat, labels[traintestBool])\n",
    "    losses[epochi] = loss.item()  # tensor value সংরক্ষণ\n",
    "\n",
    "    # 🔹 Backpropagation\n",
    "    optimizer.zero_grad()\n",
    "    loss.backward()\n",
    "    optimizer.step()\n"
   ]
  },
  {
   "cell_type": "code",
   "execution_count": 18,
   "id": "298a0471",
   "metadata": {},
   "outputs": [],
   "source": [
    "#compute train and tets accuracies\n",
    "\n",
    "predictions=ANNiris(data[traintestBool,:])\n",
    "trainacc=100*torch.mean((torch.argmax(predictions,axis=1)==labels[traintestBool]).float())\n",
    "\n",
    "predictions=ANNiris(data[~traintestBool,:])\n",
    "tetsacc=100*torch.mean((torch.argmax(predictions,axis=1)==labels[~traintestBool]).float())\n"
   ]
  },
  {
   "cell_type": "code",
   "execution_count": 19,
   "id": "5335db95",
   "metadata": {},
   "outputs": [
    {
     "name": "stdout",
     "output_type": "stream",
     "text": [
      "Final Train Accuracy: 98.3333%\n",
      "Final Test Accuracy: 73.3333%\n"
     ]
    }
   ],
   "source": [
    "print('Final Train Accuracy: %g%%' %trainacc)\n",
    "print('Final Test Accuracy: %g%%' %tetsacc)"
   ]
  },
  {
   "cell_type": "markdown",
   "id": "55a3ab64",
   "metadata": {},
   "source": [
    "### Additional explorations"
   ]
  },
  {
   "cell_type": "code",
   "execution_count": null,
   "id": "b9e708fc",
   "metadata": {},
   "outputs": [],
   "source": []
  },
  {
   "cell_type": "code",
   "execution_count": null,
   "metadata": {},
   "outputs": [],
   "source": []
  },
  {
   "cell_type": "code",
   "execution_count": null,
   "id": "50e57d74",
   "metadata": {},
   "outputs": [],
   "source": []
  },
  {
   "cell_type": "code",
   "execution_count": null,
   "id": "f4102c9c",
   "metadata": {},
   "outputs": [],
   "source": []
  },
  {
   "cell_type": "code",
   "execution_count": null,
   "id": "510a3dea",
   "metadata": {},
   "outputs": [],
   "source": []
  },
  {
   "cell_type": "code",
   "execution_count": null,
   "metadata": {},
   "outputs": [],
   "source": []
  },
  {
   "cell_type": "code",
   "execution_count": null,
   "metadata": {},
   "outputs": [],
   "source": []
  },
  {
   "cell_type": "code",
   "execution_count": null,
   "id": "3b57d414",
   "metadata": {},
   "outputs": [],
   "source": []
  },
  {
   "cell_type": "markdown",
   "id": "e9429d98",
   "metadata": {},
   "source": []
  }
 ],
 "metadata": {
  "kernelspec": {
   "display_name": "venv",
   "language": "python",
   "name": "python3"
  },
  "language_info": {
   "codemirror_mode": {
    "name": "ipython",
    "version": 3
   },
   "file_extension": ".py",
   "mimetype": "text/x-python",
   "name": "python",
   "nbconvert_exporter": "python",
   "pygments_lexer": "ipython3",
   "version": "3.10.16"
  }
 },
 "nbformat": 4,
 "nbformat_minor": 5
}
