{
 "cells": [
  {
   "cell_type": "code",
   "execution_count": 2,
   "id": "2d10b1c1",
   "metadata": {},
   "outputs": [
    {
     "name": "stderr",
     "output_type": "stream",
     "text": [
      "C:\\Users\\roger\\AppData\\Local\\Temp\\ipykernel_22308\\1577475357.py:12: DeprecationWarning: `set_matplotlib_formats` is deprecated since IPython 7.23, directly use `matplotlib_inline.backend_inline.set_matplotlib_formats()`\n",
      "  display.set_matplotlib_formats('svg')\n"
     ]
    }
   ],
   "source": [
    "import torch\n",
    "import torch.nn as nn\n",
    "import torch.nn.functional as F\n",
    "\n",
    "import numpy as np\n",
    "\n",
    "from scipy.signal import convolve2d\n",
    "from imageio import imread\n",
    "\n",
    "import matplotlib.pyplot as plt\n",
    "from IPython import display\n",
    "display.set_matplotlib_formats('svg')\n",
    "\n",
    "\n",
    "from sklearn.model_selection import train_test_split\n",
    "from torch.utils.data import DataLoader, TensorDataset\n",
    "from torchsummary import summary"
   ]
  },
  {
   "cell_type": "markdown",
   "id": "847234d8",
   "metadata": {},
   "source": [
    "### Import the data"
   ]
  },
  {
   "cell_type": "code",
   "execution_count": 7,
   "id": "c5ab1e5b",
   "metadata": {},
   "outputs": [],
   "source": [
    "data=np.loadtxt(open('F:\\A deep understanding of Deep Learning (with python)\\CNNs\\mnist_train_small.csv','rb'),delimiter=';')\n",
    "\n",
    "labels=data[:,0]\n",
    "data=data[:,1:]\n",
    "\n",
    "dataNorm=data/np.max(data)\n",
    "\n",
    "dataNorm=dataNorm.reshape(dataNorm.shape[0],1,28,28)\n",
    "\n"
   ]
  },
  {
   "cell_type": "code",
   "execution_count": 8,
   "id": "db3e858f",
   "metadata": {},
   "outputs": [
    {
     "data": {
      "text/plain": [
       "(20001, 1, 28, 28)"
      ]
     },
     "execution_count": 8,
     "metadata": {},
     "output_type": "execute_result"
    }
   ],
   "source": [
    "dataNorm.shape"
   ]
  },
  {
   "cell_type": "markdown",
   "id": "ca3f15ec",
   "metadata": {},
   "source": [
    "## Create train/test groups using DataLoader"
   ]
  },
  {
   "cell_type": "code",
   "execution_count": null,
   "id": "3b1f9175",
   "metadata": {},
   "outputs": [],
   "source": []
  }
 ],
 "metadata": {
  "kernelspec": {
   "display_name": "venv",
   "language": "python",
   "name": "python3"
  },
  "language_info": {
   "codemirror_mode": {
    "name": "ipython",
    "version": 3
   },
   "file_extension": ".py",
   "mimetype": "text/x-python",
   "name": "python",
   "nbconvert_exporter": "python",
   "pygments_lexer": "ipython3",
   "version": "3.10.18"
  }
 },
 "nbformat": 4,
 "nbformat_minor": 5
}
