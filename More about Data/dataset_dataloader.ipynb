{
 "cells": [
  {
   "cell_type": "code",
   "execution_count": 1,
   "id": "fb77a930",
   "metadata": {},
   "outputs": [],
   "source": [
    "import numpy as np\n",
    "import torch \n",
    "from torch.utils.data import DataLoader,TensorDataset"
   ]
  },
  {
   "cell_type": "code",
   "execution_count": 2,
   "id": "ca568dc4",
   "metadata": {},
   "outputs": [],
   "source": [
    "nobservations=100\n",
    "nFeatures=20\n",
    "\n",
    "data=np.random.randn(nobservations,nFeatures)\n",
    "\n",
    "dataT=torch.tensor(data)"
   ]
  },
  {
   "cell_type": "code",
   "execution_count": 5,
   "id": "29648130",
   "metadata": {},
   "outputs": [
    {
     "name": "stdout",
     "output_type": "stream",
     "text": [
      "Numpy data:\n",
      "<class 'numpy.ndarray'>\n",
      "(100, 20)\n",
      "float64\n",
      " \n",
      "Tensor data:\n",
      "<class 'torch.Tensor'>\n",
      "torch.Size([100, 20])\n",
      "torch.float64\n"
     ]
    }
   ],
   "source": [
    "print('Numpy data:')\n",
    "\n",
    "print(type(data))\n",
    "print(data.shape)\n",
    "print(data.dtype)\n",
    "print(' ')\n",
    "print('Tensor data:')\n",
    "print(type(dataT))\n",
    "print(dataT.size())\n",
    "print(dataT.dtype)"
   ]
  },
  {
   "cell_type": "code",
   "execution_count": 6,
   "id": "c158379f",
   "metadata": {},
   "outputs": [
    {
     "name": "stdout",
     "output_type": "stream",
     "text": [
      "torch.float32\n",
      "torch.int64\n"
     ]
    }
   ],
   "source": [
    "dataT2=torch.tensor(data).float()\n",
    "print(dataT2.dtype)\n",
    "\n",
    "dataT3=torch.tensor(data).long()\n",
    "print(dataT3.dtype)"
   ]
  },
  {
   "cell_type": "code",
   "execution_count": 7,
   "id": "abe0ffb8",
   "metadata": {},
   "outputs": [
    {
     "data": {
      "text/plain": [
       "(tensor([[ 1.0623, -1.3798, -1.2111,  ..., -1.3917, -2.1193,  1.0562],\n",
       "         [-0.8444, -1.4110,  0.2617,  ...,  0.0765,  1.6280,  0.8736],\n",
       "         [ 0.1611, -0.4820, -0.9538,  ...,  0.5259,  1.2266,  0.4278],\n",
       "         ...,\n",
       "         [-1.0125, -0.3172,  1.8227,  ..., -0.4792, -0.2111, -0.2987],\n",
       "         [-1.0075,  0.5531, -0.9283,  ..., -0.7503,  0.1109,  1.1198],\n",
       "         [-0.8501,  1.8587,  0.2029,  ...,  0.1266, -1.9430,  0.8669]],\n",
       "        dtype=torch.float64),)"
      ]
     },
     "execution_count": 7,
     "metadata": {},
     "output_type": "execute_result"
    }
   ],
   "source": [
    "dataset=TensorDataset(dataT)\n",
    "dataset.tensors"
   ]
  },
  {
   "cell_type": "code",
   "execution_count": 8,
   "id": "fa2b98ba",
   "metadata": {},
   "outputs": [
    {
     "name": "stdout",
     "output_type": "stream",
     "text": [
      "tensor([[1.],\n",
      "        [1.],\n",
      "        [1.],\n",
      "        [1.],\n",
      "        [1.],\n",
      "        [1.],\n",
      "        [1.],\n",
      "        [1.],\n",
      "        [1.],\n",
      "        [1.],\n",
      "        [1.],\n",
      "        [1.],\n",
      "        [1.],\n",
      "        [1.],\n",
      "        [1.],\n",
      "        [1.],\n",
      "        [1.],\n",
      "        [1.],\n",
      "        [1.],\n",
      "        [1.],\n",
      "        [1.],\n",
      "        [1.],\n",
      "        [1.],\n",
      "        [1.],\n",
      "        [1.],\n",
      "        [2.],\n",
      "        [2.],\n",
      "        [2.],\n",
      "        [2.],\n",
      "        [2.],\n",
      "        [2.],\n",
      "        [2.],\n",
      "        [2.],\n",
      "        [2.],\n",
      "        [2.],\n",
      "        [2.],\n",
      "        [2.],\n",
      "        [2.],\n",
      "        [2.],\n",
      "        [2.],\n",
      "        [2.],\n",
      "        [2.],\n",
      "        [2.],\n",
      "        [2.],\n",
      "        [2.],\n",
      "        [2.],\n",
      "        [2.],\n",
      "        [2.],\n",
      "        [2.],\n",
      "        [2.],\n",
      "        [3.],\n",
      "        [3.],\n",
      "        [3.],\n",
      "        [3.],\n",
      "        [3.],\n",
      "        [3.],\n",
      "        [3.],\n",
      "        [3.],\n",
      "        [3.],\n",
      "        [3.],\n",
      "        [3.],\n",
      "        [3.],\n",
      "        [3.],\n",
      "        [3.],\n",
      "        [3.],\n",
      "        [3.],\n",
      "        [3.],\n",
      "        [3.],\n",
      "        [3.],\n",
      "        [3.],\n",
      "        [3.],\n",
      "        [3.],\n",
      "        [3.],\n",
      "        [3.],\n",
      "        [3.],\n",
      "        [4.],\n",
      "        [4.],\n",
      "        [4.],\n",
      "        [4.],\n",
      "        [4.],\n",
      "        [4.],\n",
      "        [4.],\n",
      "        [4.],\n",
      "        [4.],\n",
      "        [4.],\n",
      "        [4.],\n",
      "        [4.],\n",
      "        [4.],\n",
      "        [4.],\n",
      "        [4.],\n",
      "        [4.],\n",
      "        [4.],\n",
      "        [4.],\n",
      "        [4.],\n",
      "        [4.],\n",
      "        [4.],\n",
      "        [4.],\n",
      "        [4.],\n",
      "        [4.],\n",
      "        [4.]])\n",
      "torch.Size([100, 20])\n",
      "torch.Size([100, 1])\n"
     ]
    }
   ],
   "source": [
    "labels=torch.ceil(torch.linspace(.01,4,nobservations))\n",
    "\n",
    "labels=labels.reshape((len(labels),1))\n",
    "print(labels)\n",
    "\n",
    "dataset=TensorDataset(dataT,labels)\n",
    "print(dataset.tensors[0].size())\n",
    "print(dataset.tensors[1].size())"
   ]
  },
  {
   "cell_type": "markdown",
   "id": "d38a2e8f",
   "metadata": {},
   "source": [
    "### DataLoader"
   ]
  },
  {
   "cell_type": "code",
   "execution_count": 9,
   "id": "acb8f2b6",
   "metadata": {},
   "outputs": [
    {
     "data": {
      "text/plain": [
       "torch.Size([100, 20])"
      ]
     },
     "execution_count": 9,
     "metadata": {},
     "output_type": "execute_result"
    }
   ],
   "source": [
    "batchsize=25\n",
    "dataloader=DataLoader(dataset,batch_size=batchsize)\n",
    "dataloader.dataset.tensors[0].size()"
   ]
  },
  {
   "cell_type": "code",
   "execution_count": 11,
   "id": "5b17bce2",
   "metadata": {},
   "outputs": [
    {
     "name": "stdout",
     "output_type": "stream",
     "text": [
      "BAtch info:\n",
      "torch.Size([25, 20])\n",
      "torch.Size([25, 1])\n",
      " \n",
      "BAtch info:\n",
      "torch.Size([25, 20])\n",
      "torch.Size([25, 1])\n",
      " \n",
      "BAtch info:\n",
      "torch.Size([25, 20])\n",
      "torch.Size([25, 1])\n",
      " \n",
      "BAtch info:\n",
      "torch.Size([25, 20])\n",
      "torch.Size([25, 1])\n",
      " \n"
     ]
    }
   ],
   "source": [
    "for dat,labs in dataloader:\n",
    "    print('BAtch info:')\n",
    "    print(dat.size())\n",
    "    print(labs.size())\n",
    "    print(' ')"
   ]
  },
  {
   "cell_type": "code",
   "execution_count": 13,
   "id": "e3e01e41",
   "metadata": {},
   "outputs": [
    {
     "name": "stdout",
     "output_type": "stream",
     "text": [
      "[[ 1.06232696 -0.84442346  0.16106739 ... -1.01248797 -1.00746612\n",
      "  -0.85008285]\n",
      " [-1.37981872 -1.41099809 -0.4820109  ... -0.3171944   0.55306874\n",
      "   1.8587221 ]\n",
      " [-1.21107442  0.26168817 -0.95381569 ...  1.82272474 -0.92825644\n",
      "   0.20291866]\n",
      " ...\n",
      " [-1.39169024  0.07647434  0.52591079 ... -0.47923268 -0.75028725\n",
      "   0.12656064]\n",
      " [-2.11928941  1.62802811  1.22657    ... -0.21112905  0.11089904\n",
      "  -1.94301235]\n",
      " [ 1.0562302   0.87361133  0.42783003 ... -0.29870186  1.11984896\n",
      "   0.86691573]]\n",
      " \n",
      "[[ 1.06232696 -0.84442346  0.16106739 ... -1.01248797 -1.00746612\n",
      "  -0.85008285]\n",
      " [-1.37981872 -1.41099809 -0.4820109  ... -0.3171944   0.55306874\n",
      "   1.8587221 ]\n",
      " [-1.21107442  0.26168817 -0.95381569 ...  1.82272474 -0.92825644\n",
      "   0.20291866]\n",
      " ...\n",
      " [-1.39169024  0.07647434  0.52591079 ... -0.47923268 -0.75028725\n",
      "   0.12656064]\n",
      " [-2.11928941  1.62802811  1.22657    ... -0.21112905  0.11089904\n",
      "  -1.94301235]\n",
      " [ 1.0562302   0.87361133  0.42783003 ... -0.29870186  1.11984896\n",
      "   0.86691573]]\n",
      " \n",
      "[[ 1.06232696 -0.84442346  0.16106739 ... -1.01248797 -1.00746612\n",
      "  -0.85008285]\n",
      " [-1.37981872 -1.41099809 -0.4820109  ... -0.3171944   0.55306874\n",
      "   1.8587221 ]\n",
      " [-1.21107442  0.26168817 -0.95381569 ...  1.82272474 -0.92825644\n",
      "   0.20291866]\n",
      " ...\n",
      " [-1.39169024  0.07647434  0.52591079 ... -0.47923268 -0.75028725\n",
      "   0.12656064]\n",
      " [-2.11928941  1.62802811  1.22657    ... -0.21112905  0.11089904\n",
      "  -1.94301235]\n",
      " [ 1.0562302   0.87361133  0.42783003 ... -0.29870186  1.11984896\n",
      "   0.86691573]]\n",
      " \n",
      "[[ 1.06232696 -0.84442346  0.16106739 ... -1.01248797 -1.00746612\n",
      "  -0.85008285]\n",
      " [-1.37981872 -1.41099809 -0.4820109  ... -0.3171944   0.55306874\n",
      "   1.8587221 ]\n",
      " [-1.21107442  0.26168817 -0.95381569 ...  1.82272474 -0.92825644\n",
      "   0.20291866]\n",
      " ...\n",
      " [-1.39169024  0.07647434  0.52591079 ... -0.47923268 -0.75028725\n",
      "   0.12656064]\n",
      " [-2.11928941  1.62802811  1.22657    ... -0.21112905  0.11089904\n",
      "  -1.94301235]\n",
      " [ 1.0562302   0.87361133  0.42783003 ... -0.29870186  1.11984896\n",
      "   0.86691573]]\n",
      " \n"
     ]
    }
   ],
   "source": [
    "for dat,labs in dataloader:\n",
    "    print(data.T)\n",
    "    print(' ')"
   ]
  },
  {
   "cell_type": "code",
   "execution_count": 15,
   "id": "f7a52322",
   "metadata": {},
   "outputs": [
    {
     "name": "stdout",
     "output_type": "stream",
     "text": [
      "tensor([[1.],\n",
      "        [1.],\n",
      "        [1.],\n",
      "        [1.],\n",
      "        [1.],\n",
      "        [1.],\n",
      "        [1.],\n",
      "        [1.],\n",
      "        [1.],\n",
      "        [1.],\n",
      "        [1.],\n",
      "        [1.],\n",
      "        [1.],\n",
      "        [1.],\n",
      "        [1.],\n",
      "        [1.],\n",
      "        [1.],\n",
      "        [1.],\n",
      "        [1.],\n",
      "        [1.],\n",
      "        [1.],\n",
      "        [1.],\n",
      "        [1.],\n",
      "        [1.],\n",
      "        [1.]])\n"
     ]
    }
   ],
   "source": [
    "dat,labs=next(iter(dataloader))\n",
    "print(labs)"
   ]
  },
  {
   "cell_type": "code",
   "execution_count": null,
   "id": "30c0e8fc",
   "metadata": {},
   "outputs": [],
   "source": []
  }
 ],
 "metadata": {
  "kernelspec": {
   "display_name": "venv",
   "language": "python",
   "name": "python3"
  },
  "language_info": {
   "codemirror_mode": {
    "name": "ipython",
    "version": 3
   },
   "file_extension": ".py",
   "mimetype": "text/x-python",
   "name": "python",
   "nbconvert_exporter": "python",
   "pygments_lexer": "ipython3",
   "version": "3.10.16"
  }
 },
 "nbformat": 4,
 "nbformat_minor": 5
}
