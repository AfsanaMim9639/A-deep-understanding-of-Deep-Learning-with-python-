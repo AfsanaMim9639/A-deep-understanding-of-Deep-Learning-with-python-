{
 "cells": [
  {
   "cell_type": "markdown",
   "id": "27891a61",
   "metadata": {},
   "source": [
    "<h2>Parametric Experiments on Gradient Descent</h2>\n",
    "\n",
    "<h3>Goal:</h3>\n",
    "<p>\n",
    "To observe how different learning rates affect the convergence of gradient descent.\n",
    "</p>\n",
    "\n",
    "<h3>Function:</h3>\n",
    "<p>\n",
    "f(x) = x² → has global minimum at x = 0\n",
    "</p>\n",
    "\n",
    "<h3>Experiment:</h3>\n",
    "<p>\n",
    "We will run gradient descent with different learning rates and compare the paths.\n",
    "</p>\n",
    "\n",
    "<h3>Learning Rates Tested:</h3>\n",
    "<ul>\n",
    "<li>α = 0.01 (very small)</li>\n",
    "<li>α = 0.1 (moderate)</li>\n",
    "<li>α = 0.5 (large)</li>\n",
    "<li>α = 1.0 (too large → may overshoot)</li>\n",
    "</ul>\n"
   ]
  },
  {
   "cell_type": "markdown",
   "id": "0682116a",
   "metadata": {},
   "source": []
  },
  {
   "cell_type": "code",
   "execution_count": 1,
   "id": "3946e710",
   "metadata": {},
   "outputs": [
    {
     "ename": "ModuleNotFoundError",
     "evalue": "No module named 'matplotlib'",
     "output_type": "error",
     "traceback": [
      "\u001b[1;31m---------------------------------------------------------------------------\u001b[0m",
      "\u001b[1;31mModuleNotFoundError\u001b[0m                       Traceback (most recent call last)",
      "Cell \u001b[1;32mIn[1], line 2\u001b[0m\n\u001b[0;32m      1\u001b[0m \u001b[38;5;28;01mimport\u001b[39;00m\u001b[38;5;250m \u001b[39m\u001b[38;5;21;01mnumpy\u001b[39;00m\u001b[38;5;250m \u001b[39m\u001b[38;5;28;01mas\u001b[39;00m\u001b[38;5;250m \u001b[39m\u001b[38;5;21;01mnp\u001b[39;00m\n\u001b[1;32m----> 2\u001b[0m \u001b[38;5;28;01mimport\u001b[39;00m\u001b[38;5;250m \u001b[39m\u001b[38;5;21;01mmatplotlib\u001b[39;00m\u001b[38;5;21;01m.\u001b[39;00m\u001b[38;5;21;01mpyplot\u001b[39;00m\u001b[38;5;250m \u001b[39m\u001b[38;5;28;01mas\u001b[39;00m\u001b[38;5;250m \u001b[39m\u001b[38;5;21;01mplt\u001b[39;00m\n\u001b[0;32m      4\u001b[0m \u001b[38;5;28;01mdef\u001b[39;00m\u001b[38;5;250m \u001b[39m\u001b[38;5;21mf\u001b[39m(x):\n\u001b[0;32m      5\u001b[0m     \u001b[38;5;28;01mreturn\u001b[39;00m x\u001b[38;5;241m*\u001b[39m\u001b[38;5;241m*\u001b[39m\u001b[38;5;241m2\u001b[39m\n",
      "\u001b[1;31mModuleNotFoundError\u001b[0m: No module named 'matplotlib'"
     ]
    }
   ],
   "source": [
    "import numpy as np\n",
    "import matplotlib.pyplot as plt\n",
    "\n",
    "def f(x):\n",
    "    return x**2\n",
    "\n",
    "def df(x):\n",
    "    return 2*x\n",
    "\n",
    "def gradient_descent(start, lr, epochs):\n",
    "    x = start\n",
    "    path = [x]\n",
    "    for _ in range(epochs):\n",
    "        grad = df(x)\n",
    "        x = x - lr * grad\n",
    "        path.append(x)\n",
    "    return path\n",
    "\n",
    "# Parameters\n",
    "start_point = 8\n",
    "epochs = 30\n",
    "learning_rates = [0.01, 0.1, 0.5, 1.0]\n",
    "paths = {}\n",
    "\n",
    "# Run experiments\n",
    "for lr in learning_rates:\n",
    "    path = gradient_descent(start=start_point, lr=lr, epochs=epochs)\n",
    "    paths[lr] = path\n",
    "\n",
    "# Plotting\n",
    "x_vals = np.linspace(-10, 10, 400)\n",
    "y_vals = f(x_vals)\n",
    "\n",
    "plt.figure(figsize=(12, 8))\n",
    "plt.plot(x_vals, y_vals, label=\"f(x) = x²\", color='black')\n",
    "\n",
    "for lr, path in paths.items():\n",
    "    y_path = [f(i) for i in path]\n",
    "    plt.plot(path, y_path, '--o', label=f\"lr={lr}\")\n",
    "\n",
    "plt.title(\"Parametric Experiment on Gradient Descent with Different Learning Rates\")\n",
    "plt.xlabel(\"x\")\n",
    "plt.ylabel(\"f(x)\")\n",
    "plt.grid()\n",
    "plt.legend()\n",
    "plt.show()\n"
   ]
  },
  {
   "cell_type": "code",
   "execution_count": null,
   "id": "2f6476c3",
   "metadata": {},
   "outputs": [],
   "source": []
  }
 ],
 "metadata": {
  "kernelspec": {
   "display_name": "venv",
   "language": "python",
   "name": "python3"
  },
  "language_info": {
   "codemirror_mode": {
    "name": "ipython",
    "version": 3
   },
   "file_extension": ".py",
   "mimetype": "text/x-python",
   "name": "python",
   "nbconvert_exporter": "python",
   "pygments_lexer": "ipython3",
   "version": "3.10.16"
  }
 },
 "nbformat": 4,
 "nbformat_minor": 5
}
