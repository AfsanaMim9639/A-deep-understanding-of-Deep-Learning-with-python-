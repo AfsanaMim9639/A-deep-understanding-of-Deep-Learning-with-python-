{
 "cells": [
  {
   "cell_type": "markdown",
   "id": "0dcb163e",
   "metadata": {},
   "source": [
    "<h2>Gradient Descent Overview</h2>\n",
    "\n",
    "<h3>What is Gradient Descent?</h3>\n",
    "<p>\n",
    "<b>English:</b> Gradient Descent is an optimization algorithm used to minimize a function by iteratively moving towards the steepest descent (negative gradient).\n",
    "<br>\n",
    "<b>বাংলা:</b> Gradient Descent হলো একটি অপ্টিমাইজেশন অ্যালগরিদম যা একটি ফাংশনের ক্ষুদ্রতম মান (minimum) খুঁজে পেতে ব্যবহৃত হয়। এটি ধাপে ধাপে গড়াই-এর দিক (gradient) বরাবর নিচের দিকে অগ্রসর হয়।\n",
    "</p>\n",
    "\n",
    "<h3>Objective:</h3>\n",
    "<p>\n",
    "Minimize a loss function (like MSE, cross-entropy) by updating the model’s parameters.\n",
    "</p>\n",
    "\n",
    "<h3>Update Rule:</h3>\n",
    "<p>\n",
    "θ = θ − α * ∇J(θ)<br>\n",
    "Where:\n",
    "<ul>\n",
    "<li>θ = parameter (weight)</li>\n",
    "<li>α = learning rate</li>\n",
    "<li>∇J(θ) = gradient of cost function J with respect to θ</li>\n",
    "</ul>\n",
    "</p>\n",
    "\n",
    "<h3>Steps of Gradient Descent:</h3>\n",
    "<ol>\n",
    "<li>Initialize weights randomly</li>\n",
    "<li>Calculate the loss (cost function)</li>\n",
    "<li>Find the gradient (slope) of the loss w.r.t parameters</li>\n",
    "<li>Update weights using the update rule</li>\n",
    "<li>Repeat until convergence</li>\n",
    "</ol>\n",
    "\n",
    "<h3>Python উদাহরণ: Minimize f(x) = x²</h3>\n",
    "</p>\n"
   ]
  },
  {
   "cell_type": "code",
   "execution_count": 1,
   "id": "b5a7c546",
   "metadata": {},
   "outputs": [
    {
     "ename": "ModuleNotFoundError",
     "evalue": "No module named 'matplotlib'",
     "output_type": "error",
     "traceback": [
      "\u001b[1;31m---------------------------------------------------------------------------\u001b[0m",
      "\u001b[1;31mModuleNotFoundError\u001b[0m                       Traceback (most recent call last)",
      "Cell \u001b[1;32mIn[1], line 2\u001b[0m\n\u001b[0;32m      1\u001b[0m \u001b[38;5;28;01mimport\u001b[39;00m\u001b[38;5;250m \u001b[39m\u001b[38;5;21;01mnumpy\u001b[39;00m\u001b[38;5;250m \u001b[39m\u001b[38;5;28;01mas\u001b[39;00m\u001b[38;5;250m \u001b[39m\u001b[38;5;21;01mnp\u001b[39;00m\n\u001b[1;32m----> 2\u001b[0m \u001b[38;5;28;01mimport\u001b[39;00m\u001b[38;5;250m \u001b[39m\u001b[38;5;21;01mmatplotlib\u001b[39;00m\u001b[38;5;21;01m.\u001b[39;00m\u001b[38;5;21;01mpyplot\u001b[39;00m\u001b[38;5;250m \u001b[39m\u001b[38;5;28;01mas\u001b[39;00m\u001b[38;5;250m \u001b[39m\u001b[38;5;21;01mplt\u001b[39;00m\n\u001b[0;32m      4\u001b[0m \u001b[38;5;66;03m# Function and its derivative\u001b[39;00m\n\u001b[0;32m      5\u001b[0m \u001b[38;5;28;01mdef\u001b[39;00m\u001b[38;5;250m \u001b[39m\u001b[38;5;21mf\u001b[39m(x):\n",
      "\u001b[1;31mModuleNotFoundError\u001b[0m: No module named 'matplotlib'"
     ]
    }
   ],
   "source": [
    "import numpy as np\n",
    "import matplotlib.pyplot as plt\n",
    "\n",
    "# Function and its derivative\n",
    "def f(x):\n",
    "    return x**2\n",
    "\n",
    "def df(x):\n",
    "    return 2*x\n",
    "\n",
    "# Initialize\n",
    "x = 10   # starting point\n",
    "lr = 0.1  # learning rate\n",
    "steps = [x]\n",
    "\n",
    "# Gradient Descent Loop\n",
    "for i in range(25):\n",
    "    grad = df(x)\n",
    "    x = x - lr * grad\n",
    "    steps.append(x)\n",
    "\n",
    "print(\"Minimum occurs at x =\", x)\n",
    "\n",
    "# Plotting\n",
    "x_vals = np.linspace(-12, 12, 100)\n",
    "y_vals = f(x_vals)\n",
    "\n",
    "plt.plot(x_vals, y_vals, label=\"f(x) = x²\")\n",
    "plt.scatter(steps, [f(i) for i in steps], color='red', s=30)\n",
    "plt.title(\"Gradient Descent Path\")\n",
    "plt.xlabel(\"x\")\n",
    "plt.ylabel(\"f(x)\")\n",
    "plt.grid()\n",
    "plt.show()\n"
   ]
  },
  {
   "cell_type": "markdown",
   "id": "9fab298f",
   "metadata": {},
   "source": []
  }
 ],
 "metadata": {
  "kernelspec": {
   "display_name": "venv",
   "language": "python",
   "name": "python3"
  },
  "language_info": {
   "codemirror_mode": {
    "name": "ipython",
    "version": 3
   },
   "file_extension": ".py",
   "mimetype": "text/x-python",
   "name": "python",
   "nbconvert_exporter": "python",
   "pygments_lexer": "ipython3",
   "version": "3.10.0"
  }
 },
 "nbformat": 4,
 "nbformat_minor": 5
}
