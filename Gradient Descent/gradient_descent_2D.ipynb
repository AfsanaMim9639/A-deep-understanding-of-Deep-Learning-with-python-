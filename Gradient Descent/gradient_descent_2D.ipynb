{
 "cells": [
  {
   "cell_type": "markdown",
   "id": "9f321288",
   "metadata": {},
   "source": [
    "<h2>Gradient Descent in 2D</h2>\n",
    "\n",
    "<h3>Function:</h3>\n",
    "<p>\n",
    "<b>f(x, y) = x² + y²</b>  \n",
    "<br>\n",
    "<b>English:</b> A simple 2D convex function with a global minimum at (0, 0).  \n",
    "<br>\n",
    "<b>বাংলা:</b> এটি একটি সাধারণ ২-ডাইমেনশনাল ফাংশন, যার সর্বনিম্ন মান (minimum) হয় (0, 0) বিন্দুতে।\n",
    "</p>\n",
    "\n",
    "<h3>Goal:</h3>\n",
    "<p>\n",
    "Use gradient descent to reach the minimum value of the function starting from an arbitrary point.\n",
    "</p>\n",
    "\n",
    "<h3>Gradient:</h3>\n",
    "<p>\n",
    "∂f/∂x = 2x, ∂f/∂y = 2y <br> \n",
    "Gradient vector ∇f = [2x, 2y]\n",
    "</p>\n",
    "\n",
    "<h3>Update Rule:</h3>\n",
    "<p>\n",
    "x = x - α * ∂f/∂x <br> \n",
    "y = y - α * ∂f/∂y\n",
    "</p>\n"
   ]
  },
  {
   "cell_type": "code",
   "execution_count": 1,
   "id": "a58722ec",
   "metadata": {},
   "outputs": [
    {
     "name": "stdout",
     "output_type": "stream",
     "text": [
      "WARNING:tensorflow:From c:\\Users\\roger\\anaconda3\\envs\\venv\\lib\\site-packages\\keras\\src\\losses.py:2976: The name tf.losses.sparse_softmax_cross_entropy is deprecated. Please use tf.compat.v1.losses.sparse_softmax_cross_entropy instead.\n",
      "\n"
     ]
    },
    {
     "ename": "ModuleNotFoundError",
     "evalue": "No module named 'matplotlib'",
     "output_type": "error",
     "traceback": [
      "\u001b[1;31m---------------------------------------------------------------------------\u001b[0m",
      "\u001b[1;31mModuleNotFoundError\u001b[0m                       Traceback (most recent call last)",
      "Cell \u001b[1;32mIn[1], line 3\u001b[0m\n\u001b[0;32m      1\u001b[0m \u001b[38;5;28;01mimport\u001b[39;00m\u001b[38;5;250m \u001b[39m\u001b[38;5;21;01mtensorflow\u001b[39;00m\u001b[38;5;250m \u001b[39m\u001b[38;5;28;01mas\u001b[39;00m\u001b[38;5;250m \u001b[39m\u001b[38;5;21;01mtf\u001b[39;00m\n\u001b[0;32m      2\u001b[0m \u001b[38;5;28;01mimport\u001b[39;00m\u001b[38;5;250m \u001b[39m\u001b[38;5;21;01mnumpy\u001b[39;00m\u001b[38;5;250m \u001b[39m\u001b[38;5;28;01mas\u001b[39;00m\u001b[38;5;250m \u001b[39m\u001b[38;5;21;01mnp\u001b[39;00m\n\u001b[1;32m----> 3\u001b[0m \u001b[38;5;28;01mimport\u001b[39;00m\u001b[38;5;250m \u001b[39m\u001b[38;5;21;01mmatplotlib\u001b[39;00m\u001b[38;5;21;01m.\u001b[39;00m\u001b[38;5;21;01mpyplot\u001b[39;00m\u001b[38;5;250m \u001b[39m\u001b[38;5;28;01mas\u001b[39;00m\u001b[38;5;250m \u001b[39m\u001b[38;5;21;01mplt\u001b[39;00m\n\u001b[0;32m      5\u001b[0m \u001b[38;5;66;03m# Function: f(x, y) = x² + y²\u001b[39;00m\n\u001b[0;32m      6\u001b[0m \u001b[38;5;28;01mdef\u001b[39;00m\u001b[38;5;250m \u001b[39m\u001b[38;5;21mfunc\u001b[39m(x, y):\n",
      "\u001b[1;31mModuleNotFoundError\u001b[0m: No module named 'matplotlib'"
     ]
    }
   ],
   "source": [
    "import tensorflow as tf\n",
    "import numpy as np\n",
    "import matplotlib.pyplot as plt\n",
    "\n",
    "# Function: f(x, y) = x² + y²\n",
    "def func(x, y):\n",
    "    return x**2 + y**2\n",
    "\n",
    "# Initial values\n",
    "x = tf.Variable(4.0)\n",
    "y = tf.Variable(3.0)\n",
    "\n",
    "# Optimizer\n",
    "optimizer = tf.keras.optimizers.SGD(learning_rate=0.1)\n",
    "\n",
    "# To store descent path\n",
    "x_path = [x.numpy()]\n",
    "y_path = [y.numpy()]\n",
    "\n",
    "# Training loop\n",
    "for step in range(30):\n",
    "    with tf.GradientTape() as tape:\n",
    "        loss = func(x, y)\n",
    "\n",
    "    grads = tape.gradient(loss, [x, y])\n",
    "    optimizer.apply_gradients(zip(grads, [x, y]))\n",
    "\n",
    "    # Store path\n",
    "    x_path.append(x.numpy())\n",
    "    y_path.append(y.numpy())\n",
    "\n",
    "# Plotting descent path\n",
    "X = np.linspace(-5, 5, 400)\n",
    "Y = np.linspace(-5, 5, 400)\n",
    "X, Y = np.meshgrid(X, Y)\n",
    "Z = X**2 + Y**2\n",
    "\n",
    "plt.figure(figsize=(10, 6))\n",
    "plt.contour(X, Y, Z, levels=30, cmap=\"viridis\")\n",
    "plt.plot(x_path, y_path, 'ro--', label=\"Descent Path\")\n",
    "plt.scatter(0, 0, color='blue', label=\"Minimum at (0,0)\")\n",
    "plt.title(\"TensorFlow Gradient Descent Path for f(x, y) = x² + y²\")\n",
    "plt.xlabel(\"x\")\n",
    "plt.ylabel(\"y\")\n",
    "plt.grid()\n",
    "plt.legend()\n",
    "plt.show()\n"
   ]
  },
  {
   "cell_type": "markdown",
   "id": "f0b1992e",
   "metadata": {},
   "source": []
  }
 ],
 "metadata": {
  "kernelspec": {
   "display_name": "venv",
   "language": "python",
   "name": "python3"
  },
  "language_info": {
   "codemirror_mode": {
    "name": "ipython",
    "version": 3
   },
   "file_extension": ".py",
   "mimetype": "text/x-python",
   "name": "python",
   "nbconvert_exporter": "python",
   "pygments_lexer": "ipython3",
   "version": "3.10.0"
  }
 },
 "nbformat": 4,
 "nbformat_minor": 5
}
