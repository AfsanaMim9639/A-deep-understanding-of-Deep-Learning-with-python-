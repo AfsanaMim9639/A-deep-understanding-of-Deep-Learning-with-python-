{
 "cells": [
  {
   "cell_type": "markdown",
   "id": "732119ac",
   "metadata": {},
   "source": [
    "<h2>🚀 Optimizers: Mini-Batch Gradient Descent & Momentum</h2>\n",
    "\n",
    "<h3>✅ Mini-Batch Gradient Descent:</h3>\n",
    "<ul>\n",
    "  <li>Divides data into small batches (e.g., 32, 64 samples).</li>\n",
    "  <li>Each batch is used to update the model → faster than full batch.</li>\n",
    "</ul>\n",
    "\n",
    "<h3>✅ Momentum:</h3>\n",
    "<ul>\n",
    "  <li>Speeds up gradient descent by remembering past gradients.</li>\n",
    "  <li>Prevents oscillation in narrow valleys of loss surface.</li>\n",
    "  <li>Update Rule: <code>v = γv + η∇J(θ)</code></li>\n",
    "</ul>\n",
    "\n",
    "<h3>📌 PyTorch Code:</h3>\n",
    "<pre><code>optimizer = optim.SGD(model.parameters(), lr=0.01, momentum=0.9)</code></pre>\n",
    "\n",
    "<h3>🇧🇩 বাংলায় সংক্ষেপে:</h3>\n",
    "<ul>\n",
    "  <li><b>Mini-batch</b>: ছোট ছোট ব্যাচে ডেটা ভাগ করে ট্রেনিং হয়, সময় বাঁচে।</li>\n",
    "  <li><b>Momentum</b>: আগের গ্র্যাডিয়েন্ট মনে রাখে, তাই কম্পন কম হয় এবং দ্রুত কনভার্জ হয়।</li>\n",
    "</ul>\n"
   ]
  },
  {
   "cell_type": "markdown",
   "id": "a838a881",
   "metadata": {},
   "source": []
  }
 ],
 "metadata": {
  "kernelspec": {
   "display_name": "venv",
   "language": "python",
   "name": "python3"
  },
  "language_info": {
   "name": "python",
   "version": "3.10.16"
  }
 },
 "nbformat": 4,
 "nbformat_minor": 5
}
