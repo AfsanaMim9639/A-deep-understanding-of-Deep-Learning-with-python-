{
 "cells": [
  {
   "cell_type": "markdown",
   "id": "913570e5",
   "metadata": {},
   "source": [
    "<h2>🔍 Stride vs Pooling in CNN</h2>\n",
    "\n",
    "<table>\n",
    "  <tr>\n",
    "    <th>Option</th>\n",
    "    <th>Summary</th>\n",
    "    <th>When to Use</th>\n",
    "  </tr>\n",
    "  <tr>\n",
    "    <td><strong>Stride</strong></td>\n",
    "    <td>স্ট্রাইড দিয়ে ফিল্টারকে ধাপে ধাপে এগিয়ে spatial dimension কমানো হয়</td>\n",
    "    <td>যখন faster computation এবং structure simplification দরকার হয়</td>\n",
    "  </tr>\n",
    "  <tr>\n",
    "    <td><strong>Pooling</strong></td>\n",
    "    <td>Max বা Average pooling দিয়ে feature retain করে dimension reduce করা হয়</td>\n",
    "    <td>যখন noise tolerance ও translation invariance দরকার হয়</td>\n",
    "  </tr>\n",
    "</table>\n",
    "\n",
    "<hr>\n",
    "\n",
    "<h3>📌 উদাহরণ:</h3>\n",
    "\n",
    "<ul>\n",
    "  <li><strong>Strided Convolution:</strong><br>\n",
    "  <code>nn.Conv2d(in_channels=1, out_channels=16, kernel_size=3, stride=2)</code><br>\n",
    "  এটি output dimension অটো কমাবে, pooling দরকার নেই।</li>\n",
    "  <br>\n",
    "  <li><strong>Max Pooling:</strong><br>\n",
    "  <code>nn.MaxPool2d(kernel_size=2, stride=2)</code><br>\n",
    "  এটি 2x2 এর মধ্যে সবচেয়ে বড় মান retain করবে।</li>\n",
    "</ul>\n",
    "\n",
    "<hr>\n",
    "\n",
    "<h3>🧠 Practical Tip:</h3>\n",
    "<p>Modern CNN (যেমন <em>ResNet</em>, <em>MobileNet</em>) স্ট্রাইডেড কনভোলিউশন বেশি ব্যবহার করে, কারণ এটি <strong>learnable</strong> ও <strong>efficient</strong>। তবে পুলিং এখনো robust feature retain করার জন্য গুরুত্বপূর্ণ।</p>\n",
    "\n",
    "<hr>\n",
    "\n",
    "<h3>🎯 Final Verdict:</h3>\n",
    "<p><strong>To downsample fast:</strong> Use <strong>stride</strong>.<br>\n",
    "<strong>To retain important features:</strong> Use <strong>pooling</strong>.<br>\n",
    "<strong>Best practice:</strong> Combine both!</p>\n"
   ]
  },
  {
   "cell_type": "markdown",
   "id": "69220ef7",
   "metadata": {},
   "source": []
  }
 ],
 "metadata": {
  "language_info": {
   "name": "python"
  }
 },
 "nbformat": 4,
 "nbformat_minor": 5
}
