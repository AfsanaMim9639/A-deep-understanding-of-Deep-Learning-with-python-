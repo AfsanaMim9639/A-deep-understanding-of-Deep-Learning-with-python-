{
 "cells": [
  {
   "cell_type": "code",
   "execution_count": 1,
   "id": "8ca533c7",
   "metadata": {},
   "outputs": [],
   "source": [
    "import numpy as np\n",
    "import torch\n",
    "import torch.nn as nn"
   ]
  },
  {
   "cell_type": "markdown",
   "id": "319f9a68",
   "metadata": {},
   "source": [
    "### Sample problem"
   ]
  },
  {
   "cell_type": "code",
   "execution_count": 2,
   "id": "028979e6",
   "metadata": {},
   "outputs": [
    {
     "name": "stdout",
     "output_type": "stream",
     "text": [
      "Expected size: [1, 252, 84]\n",
      "Empirical size: [252, 84]\n"
     ]
    }
   ],
   "source": [
    "import torch\n",
    "import torch.nn as nn\n",
    "import numpy as np\n",
    "\n",
    "# Parameters\n",
    "inChans = 1\n",
    "imsize = [256, 256]  # height, width\n",
    "outChans = 1\n",
    "krnsize = 7\n",
    "stride = (1, 3)\n",
    "padding = 1\n",
    "\n",
    "# Conv layer with stride\n",
    "c = nn.Conv2d(inChans, outChans, krnsize, stride=stride, padding=padding)\n",
    "\n",
    "# Random input image [batch, in_channels, height, width]\n",
    "img = torch.rand(1, inChans, imsize[0], imsize[1])\n",
    "\n",
    "# Get output from conv\n",
    "resimg = c(img)\n",
    "empSize = torch.squeeze(resimg).shape  # remove batch/outchannel if 1\n",
    "\n",
    "# Calculate expected output size\n",
    "expectSize = np.zeros(3, dtype=int)\n",
    "expectSize[0] = outChans\n",
    "expectSize[1] = int(np.floor((imsize[0] + 2 * padding - krnsize) / stride[0]) + 1)  # height\n",
    "expectSize[2] = int(np.floor((imsize[1] + 2 * padding - krnsize) / stride[1]) + 1)  # width\n",
    "\n",
    "# Output\n",
    "print(f\"Expected size: {list(expectSize)}\")\n",
    "print(f\"Empirical size: {list(empSize)}\")\n"
   ]
  },
  {
   "cell_type": "markdown",
   "id": "aad7fb84",
   "metadata": {},
   "source": [
    "## Real Problems"
   ]
  },
  {
   "cell_type": "code",
   "execution_count": 3,
   "id": "8b5efe5d",
   "metadata": {},
   "outputs": [
    {
     "name": "stdout",
     "output_type": "stream",
     "text": [
      "Expected size: [1, 252, 84]\n",
      "Empirical size: [252, 84]\n"
     ]
    }
   ],
   "source": [
    "import torch\n",
    "import torch.nn as nn\n",
    "import numpy as np\n",
    "\n",
    "# Parameters\n",
    "inChans = 1\n",
    "imsize = [256, 256]  # height, width\n",
    "outChans = 1\n",
    "krnsize = 7\n",
    "stride = (1, 3)\n",
    "padding = 1\n",
    "\n",
    "# Conv layer with stride\n",
    "c = nn.Conv2d(inChans, outChans, krnsize, stride=stride, padding=padding)\n",
    "\n",
    "# Random input image [batch, in_channels, height, width]\n",
    "img = torch.rand(1, inChans, imsize[0], imsize[1])\n",
    "\n",
    "# Get output from conv\n",
    "resimg = c(img)\n",
    "empSize = torch.squeeze(resimg).shape  # remove batch/outchannel if 1\n",
    "\n",
    "# Calculate expected output size\n",
    "expectSize = np.zeros(3, dtype=int)\n",
    "expectSize[0] = outChans\n",
    "expectSize[1] = int(np.floor((imsize[0] + 2 * padding - krnsize) / stride[0]) + 1)  # height\n",
    "expectSize[2] = int(np.floor((imsize[1] + 2 * padding - krnsize) / stride[1]) + 1)  # width\n",
    "\n",
    "# Output\n",
    "print(f\"Expected size: {list(expectSize)}\")\n",
    "print(f\"Empirical size: {list(empSize)}\")\n"
   ]
  },
  {
   "cell_type": "code",
   "execution_count": null,
   "id": "4cfc117b",
   "metadata": {},
   "outputs": [],
   "source": []
  }
 ],
 "metadata": {
  "kernelspec": {
   "display_name": "venv",
   "language": "python",
   "name": "python3"
  },
  "language_info": {
   "codemirror_mode": {
    "name": "ipython",
    "version": 3
   },
   "file_extension": ".py",
   "mimetype": "text/x-python",
   "name": "python",
   "nbconvert_exporter": "python",
   "pygments_lexer": "ipython3",
   "version": "3.10.18"
  }
 },
 "nbformat": 4,
 "nbformat_minor": 5
}
