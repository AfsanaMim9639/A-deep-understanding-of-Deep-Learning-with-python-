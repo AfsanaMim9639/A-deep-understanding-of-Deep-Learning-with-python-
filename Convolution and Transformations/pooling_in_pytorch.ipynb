{
 "cells": [
  {
   "cell_type": "code",
   "execution_count": 1,
   "id": "1e75f5f0",
   "metadata": {},
   "outputs": [
    {
     "name": "stdout",
     "output_type": "stream",
     "text": [
      "Original Image:\n",
      " tensor([[1., 2., 3., 4., 5., 6.],\n",
      "        [6., 5., 4., 3., 2., 1.],\n",
      "        [1., 3., 5., 7., 5., 3.],\n",
      "        [2., 4., 6., 8., 6., 4.],\n",
      "        [9., 8., 7., 6., 5., 4.],\n",
      "        [3., 1., 2., 4., 6., 8.]])\n",
      "\n",
      "Max Pooled:\n",
      " tensor([[6., 4., 6.],\n",
      "        [4., 8., 6.],\n",
      "        [9., 7., 8.]])\n",
      "\n",
      "Min Pooled:\n",
      " tensor([[1., 3., 1.],\n",
      "        [1., 5., 3.],\n",
      "        [1., 2., 4.]])\n"
     ]
    }
   ],
   "source": [
    "import torch\n",
    "import torch.nn as nn\n",
    "import matplotlib.pyplot as plt\n",
    "\n",
    "# Create a random image (1 channel, 1 image of size 6x6)\n",
    "img = torch.tensor([[[[1, 2, 3, 4, 5, 6],\n",
    "                      [6, 5, 4, 3, 2, 1],\n",
    "                      [1, 3, 5, 7, 5, 3],\n",
    "                      [2, 4, 6, 8, 6, 4],\n",
    "                      [9, 8, 7, 6, 5, 4],\n",
    "                      [3, 1, 2, 4, 6, 8]]]], dtype=torch.float32)\n",
    "\n",
    "# Define max pooling\n",
    "maxpool = nn.MaxPool2d(kernel_size=2, stride=2)\n",
    "\n",
    "# Apply max pooling\n",
    "max_pooled = maxpool(img)\n",
    "\n",
    "# Min pooling by negating the input and then negating the result\n",
    "min_pooled = -maxpool(-img)\n",
    "\n",
    "# Print the results\n",
    "print(\"Original Image:\\n\", img[0,0])\n",
    "print(\"\\nMax Pooled:\\n\", max_pooled[0,0])\n",
    "print(\"\\nMin Pooled:\\n\", min_pooled[0,0])\n"
   ]
  },
  {
   "cell_type": "code",
   "execution_count": null,
   "id": "988256be",
   "metadata": {},
   "outputs": [],
   "source": []
  }
 ],
 "metadata": {
  "kernelspec": {
   "display_name": "venv",
   "language": "python",
   "name": "python3"
  },
  "language_info": {
   "codemirror_mode": {
    "name": "ipython",
    "version": 3
   },
   "file_extension": ".py",
   "mimetype": "text/x-python",
   "name": "python",
   "nbconvert_exporter": "python",
   "pygments_lexer": "ipython3",
   "version": "3.10.18"
  }
 },
 "nbformat": 4,
 "nbformat_minor": 5
}
